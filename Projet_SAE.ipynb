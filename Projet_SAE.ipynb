{
 "cells": [
  {
   "cell_type": "markdown",
   "id": "d8827ac5-f340-436f-979d-fb7cb341ec51",
   "metadata": {},
   "source": [
    "# Projet_SAE Ifig Le Gonidec & Mattéo Rouanne"
   ]
  },
  {
   "cell_type": "markdown",
   "id": "ce4d72a9-f648-47b9-bdd5-55d56fa9f601",
   "metadata": {},
   "source": [
    "### Lien GitHub : https://github.com/matiornn/projet_notebook/blob/main/Projet_SAE.ipynb"
   ]
  },
  {
   "cell_type": "code",
   "execution_count": 1,
   "id": "c662a3d4",
   "metadata": {
    "scrolled": true
   },
   "outputs": [
    {
     "name": "stderr",
     "output_type": "stream",
     "text": [
      "C:\\Users\\e2202161\\AppData\\local\\Temp\\ipykernel_9180\\568132765.py:2: DeprecationWarning: Importing display from IPython.core.display is deprecated since IPython 7.14, please import from IPython.display\n",
      "  from IPython.core.display import display, HTML\n"
     ]
    },
    {
     "data": {
      "text/html": [
       "<style>.container { width:80% !important; }</style>"
      ],
      "text/plain": [
       "<IPython.core.display.HTML object>"
      ]
     },
     "metadata": {},
     "output_type": "display_data"
    }
   ],
   "source": [
    "# pour changer la largeur de la page htlm générée par Jupyter :\n",
    "from IPython.core.display import display, HTML\n",
    "display(HTML(\"<style>.container { width:80% !important; }</style>\"))"
   ]
  },
  {
   "cell_type": "markdown",
   "id": "f6eff43d",
   "metadata": {},
   "source": [
    "# TP : Exploration et Analyse de Données avec Pandas et Streamlit\n",
    "\n",
    "## Objectif\n",
    "\n",
    "Ce projet vise à développer vos compétences en manipulation et analyse de données à l'aide de la bibliothèque Pandas en Python. Vous apprendrez à :\n",
    "\n",
    "- Importer et explorer des données provenant de Kaggle.\n",
    "- Effectuer des requêtes et manipulations de type SQL avec Pandas.\n",
    "- Créer des visualisations interactives avec Streamlit.\n",
    "\n",
    "Ce projet est noté. Tous les codes devront être écrits en Python dans des champs *jupyter* et devront respecter les conventions de nommage. L'énoncé **ne doit pas être modifié**.\n",
    "\n",
    "La derniere séance du projet, vous déposerez le fichier jupyter (projetSAE.ipynb) sur la plateforme pédagogique.\n"
   ]
  },
  {
   "cell_type": "markdown",
   "id": "3109e372",
   "metadata": {},
   "source": [
    "##### Procédure à réaliser avant les séances de TD (nous utiliserons désormais jupyter lab)\n",
    "- Lancer Anaconda Prompt sous Windows\n",
    "- Saisissez dans Anaconda Prompt : \n",
    "conda create -n projet python pandas numpy matplotlib jupyterlab kagglehub seaborn streamlit plotly\n",
    "\n",
    "=> à la demande \"Proceed ([y]/n)?\" saisissez y (ou juste pressez sur la touche \"entrée\")\n",
    "=> \"Executing transaction\" prend du temps, c'est normal\n",
    "Saisissez dans Anaconda Prompt : \n",
    "conda activate projet\n",
    "\n",
    "##### Saisissez dans Anaconda Prompt : \n",
    "jupyter lab --notebook-dir=\"h:/\"\n",
    "Ouvrir projetSAE.ipynb dans Jupyter"
   ]
  },
  {
   "cell_type": "code",
   "execution_count": 2,
   "id": "5a1b3f02",
   "metadata": {},
   "outputs": [],
   "source": [
    "%matplotlib notebook\n",
    "import os\n",
    "import shutil\n",
    "import pandas as pd\n",
    "import numpy as np\n",
    "import matplotlib.pyplot as plt\n",
    "\n",
    "import seaborn as sns\n",
    "import streamlit as st"
   ]
  },
  {
   "cell_type": "markdown",
   "id": "d57dab67",
   "metadata": {},
   "source": [
    "### Partie 1 : importation et exploration des données"
   ]
  },
  {
   "cell_type": "markdown",
   "id": "33235b70",
   "metadata": {},
   "source": [
    "#### Travailler avec Git\n",
    "1 - En utilisant le prompt conda : initialiser le projet \n",
    "\n",
    "2 - Ajouter le fichier Jupyter Notebook et faite votre premier commit \n",
    " \n",
    "3 -  Creer un projet sur github dépôt distant (sans README.md )\n",
    "\n",
    "4 - Pousser le projet vers ce dépôt \n",
    "\n",
    "5 - Enlever les checkpoint de jupyter "
   ]
  },
  {
   "cell_type": "markdown",
   "id": "8b18bb17",
   "metadata": {},
   "source": [
    "#### Questions\n",
    "1. Téléchargez le Dataset **Data Science Salaries 2023** sur Kaggle (https://www.kaggle.com/datasets/) via **kagglehub**.\n",
    "2. Copier le fichier du cache au répertoire du projet, décompresser et visualiser le fichier CSV **ds_salaries.csv**\n",
    "3. Importez le fichiers CSV avec Pandas."
   ]
  },
  {
   "cell_type": "markdown",
   "id": "b01f9ad7",
   "metadata": {},
   "source": [
    "##### Votre code"
   ]
  },
  {
   "cell_type": "code",
   "execution_count": 4,
   "id": "b81cdc79",
   "metadata": {},
   "outputs": [
    {
     "name": "stderr",
     "output_type": "stream",
     "text": [
      "C:\\Users\\e2202161\\.conda\\envs\\projet\\Lib\\site-packages\\tqdm\\auto.py:21: TqdmWarning: IProgress not found. Please update jupyter and ipywidgets. See https://ipywidgets.readthedocs.io/en/stable/user_install.html\n",
      "  from .autonotebook import tqdm as notebook_tqdm\n"
     ]
    },
    {
     "name": "stdout",
     "output_type": "stream",
     "text": [
      "Warning: Looks like you're using an outdated `kagglehub` version, please consider updating (latest version: 0.3.6)\n",
      "Downloading from https://www.kaggle.com/api/v1/datasets/download/arnabchaki/data-science-salaries-2023?dataset_version_number=1...\n"
     ]
    },
    {
     "name": "stderr",
     "output_type": "stream",
     "text": [
      "100%|█████████████████████████████████████████████████████████████████████████████| 25.4k/25.4k [00:00<00:00, 26.1MB/s]"
     ]
    },
    {
     "name": "stdout",
     "output_type": "stream",
     "text": [
      "Extracting model files...\n",
      "Path to dataset files: C:\\Users\\e2202161\\.cache\\kagglehub\\datasets\\arnabchaki\\data-science-salaries-2023\\versions\\1\n"
     ]
    },
    {
     "name": "stderr",
     "output_type": "stream",
     "text": [
      "\n"
     ]
    }
   ],
   "source": [
    "import kagglehub\n",
    "\n",
    "# Download latest version\n",
    "path = kagglehub.dataset_download(\"arnabchaki/data-science-salaries-2023\")\n",
    "\n",
    "print(\"Path to dataset files:\", path)"
   ]
  },
  {
   "cell_type": "markdown",
   "id": "a3c026f0",
   "metadata": {},
   "source": [
    "##### Une bonne pratique \n",
    "- Copier les données téléchargées et les coller dans le répertoire du projet.\n",
    "Pour cela, utilisez la bibliothéque os et shutil"
   ]
  },
  {
   "cell_type": "code",
   "execution_count": 7,
   "id": "c150ef82",
   "metadata": {},
   "outputs": [
    {
     "name": "stdout",
     "output_type": "stream",
     "text": [
      "   work_year experience_level employment_type                 job_title  \\\n",
      "0       2023               SE              FT  Principal Data Scientist   \n",
      "1       2023               MI              CT               ML Engineer   \n",
      "2       2023               MI              CT               ML Engineer   \n",
      "3       2023               SE              FT            Data Scientist   \n",
      "4       2023               SE              FT            Data Scientist   \n",
      "\n",
      "   salary salary_currency  salary_in_usd employee_residence  remote_ratio  \\\n",
      "0   80000             EUR          85847                 ES           100   \n",
      "1   30000             USD          30000                 US           100   \n",
      "2   25500             USD          25500                 US           100   \n",
      "3  175000             USD         175000                 CA           100   \n",
      "4  120000             USD         120000                 CA           100   \n",
      "\n",
      "  company_location company_size  \n",
      "0               ES            L  \n",
      "1               US            S  \n",
      "2               US            S  \n",
      "3               CA            M  \n",
      "4               CA            M  \n"
     ]
    },
    {
     "name": "stderr",
     "output_type": "stream",
     "text": [
      "<>:2: SyntaxWarning: invalid escape sequence '\\d'\n",
      "<>:2: SyntaxWarning: invalid escape sequence '\\d'\n",
      "C:\\Users\\e2202161\\AppData\\local\\Temp\\ipykernel_9180\\2556320857.py:2: SyntaxWarning: invalid escape sequence '\\d'\n",
      "  df = pd.read_csv(f\"{path}\\ds_salaries.csv\")\n"
     ]
    }
   ],
   "source": [
    "# Lire le fichier depuis le répertoire du projet\n",
    "df = pd.read_csv(f\"{path}\\ds_salaries.csv\")\n",
    "print(df.head())  # Affiche les premières lignes du DataFrame"
   ]
  },
  {
   "cell_type": "markdown",
   "id": "6beae70c",
   "metadata": {},
   "source": [
    "### Partie 2 : Analyses exploratoires"
   ]
  },
  {
   "cell_type": "markdown",
   "id": "2e561960",
   "metadata": {},
   "source": [
    "#### Question 1 :\n",
    "Nous Souhaitons :\n",
    "\n",
    "1. Connaitre est ce qu'il y a des données manquantes dans notre dataset.\n",
    "2. Voir la distribution des salaires en USD avec la bibliothèque seaborn sous fome d'histogramme\n",
    "3. avoir la liste des pays concerné par l'étude \n",
    "4. connaitre les salaire moyen par rôle, par pays, par niveau d'expérience"
   ]
  },
  {
   "cell_type": "markdown",
   "id": "e3d1bfbe",
   "metadata": {},
   "source": [
    "#### Votre code"
   ]
  },
  {
   "cell_type": "code",
   "execution_count": 12,
   "id": "5a438bcb-36cc-45d5-9470-9f8ffd8f8723",
   "metadata": {},
   "outputs": [
    {
     "data": {
      "text/plain": [
       "work_year             0\n",
       "experience_level      0\n",
       "employment_type       0\n",
       "job_title             0\n",
       "salary                0\n",
       "salary_currency       0\n",
       "salary_in_usd         0\n",
       "employee_residence    0\n",
       "remote_ratio          0\n",
       "company_location      0\n",
       "company_size          0\n",
       "dtype: int64"
      ]
     },
     "execution_count": 12,
     "metadata": {},
     "output_type": "execute_result"
    }
   ],
   "source": [
    "# Données manquantes \n",
    "df.isna().sum()"
   ]
  },
  {
   "cell_type": "code",
   "execution_count": 114,
   "id": "812deddf-5655-48d9-b6d7-e92f51b4d1ae",
   "metadata": {},
   "outputs": [
    {
     "data": {
      "image/png": "[encoded data removed]",
      "text/plain": [
       "<Figure size 640x480 with 1 Axes>"
      ]
     },
     "metadata": {},
     "output_type": "display_data"
    }
   ],
   "source": [
    "sns.histplot(df['salary_in_usd'],bins=30,kde='True')\n",
    "plt.title(\"Distribution des salaires\")\n",
    "plt.xlabel(\"Salaries\")\n",
    "plt.ylabel(\"Frequencies\")\n",
    "plt.show()"
   ]
  },
  {
   "cell_type": "code",
   "execution_count": 52,
   "id": "05507f71-faa0-43f6-96f1-75e6e46272d4",
   "metadata": {},
   "outputs": [
    {
     "name": "stdout",
     "output_type": "stream",
     "text": [
      "['AE', 'AL', 'AM', 'AR', 'AS', 'AT', 'AU', 'BA', 'BE', 'BO', 'BR', 'BS', 'CA', 'CF', 'CH', 'CL', 'CN', 'CO', 'CR', 'CZ', 'DE', 'DK', 'DZ', 'EE', 'EG', 'ES', 'FI', 'FR', 'GB', 'GH', 'GR', 'HK', 'HN', 'HR', 'HU', 'ID', 'IE', 'IL', 'IN', 'IQ', 'IR', 'IT', 'JP', 'KE', 'LT', 'LU', 'LV', 'MA', 'MD', 'MK', 'MT', 'MX', 'MY', 'NG', 'NL', 'NZ', 'PH', 'PK', 'PL', 'PR', 'PT', 'RO', 'RU', 'SE', 'SG', 'SI', 'SK', 'TH', 'TR', 'UA', 'US', 'VN']\n"
     ]
    }
   ],
   "source": [
    "print(np.unique(df['company_location']).tolist())"
   ]
  },
  {
   "cell_type": "code",
   "execution_count": 58,
   "id": "a5145380-383b-48ff-bbff-5c29438f19f5",
   "metadata": {},
   "outputs": [
    {
     "name": "stdout",
     "output_type": "stream",
     "text": [
      "job_title\n",
      "3D Computer Vision Researcher     21352.25\n",
      "AI Developer                     136666.09\n",
      "AI Programmer                     55000.00\n",
      "AI Scientist                     110120.88\n",
      "Analytics Engineer               152368.63\n",
      "                                   ...    \n",
      "Research Engineer                163108.38\n",
      "Research Scientist               161214.20\n",
      "Software Data Engineer            62510.00\n",
      "Staff Data Analyst                15000.00\n",
      "Staff Data Scientist             105000.00\n",
      "Name: salary_in_usd, Length: 93, dtype: float64\n",
      "company_location\n",
      "AE    100000.00\n",
      "AL     10000.00\n",
      "AM     50000.00\n",
      "AR     25000.00\n",
      "AS     29351.00\n",
      "        ...    \n",
      "TH     23064.33\n",
      "TR     19058.00\n",
      "UA     57850.00\n",
      "US    151822.01\n",
      "VN     12000.00\n",
      "Name: salary_in_usd, Length: 72, dtype: float64\n",
      "experience_level\n",
      "EN     78546.28\n",
      "EX    194930.93\n",
      "MI    104525.94\n",
      "SE    153051.07\n",
      "Name: salary_in_usd, dtype: float64\n"
     ]
    }
   ],
   "source": [
    "#Salaire moyen par rôle\n",
    "print(df['salary_in_usd'].groupby(df['job_title']).mean().round(2))\n",
    "\n",
    "# Salaire moyen par pays\n",
    "print(df['salary_in_usd'].groupby(df['company_location']).mean().round(2))\n",
    "\n",
    "# Salaires moyens par niveau d'expérience\n",
    "print(df['salary_in_usd'].groupby(df['experience_level']).mean().round(2))"
   ]
  },
  {
   "cell_type": "markdown",
   "id": "5fed3aef",
   "metadata": {},
   "source": [
    "#### Question 2 :\n",
    "Nous Souhaitons :\n",
    "\n",
    "1. Filtrer les salaires pour un pays donné (ex : US)\n",
    "2. Connaitre les top 5 des entreprises qui paient le plus\n",
    "\n",
    "3. Filtrage et agrégation:\n",
    "    - Afficher tous les employés dont le salaire est supérieur à 100 000 USD, ainsi que leur rôle.\n",
    "    - Pays avec la plus forte proportion de télétravail (remote_ratio = 100)\n",
    "       \n",
    "4. Requêtes conditionnelles: \n",
    "    - Salaire moyen des employés à distance (100%)\n",
    "    - Comparer salaires moyens pour deux catégories\n",
    "        \n",
    "5. Ajouter une colonne pour les fourchettes de salaires\n",
    "6. Corrélations : Relation entre télétravail et salaire: \n",
    " -\n",
    "7. Salaire moyen par taille d'entreprise \n",
    "8. faire un tableau croisé : Moyenne des salaires par niveau d'expérience et télétravail"
   ]
  },
  {
   "cell_type": "code",
   "execution_count": 66,
   "id": "b3d9f758-c3a4-46f2-9a6e-17d945a91005",
   "metadata": {},
   "outputs": [
    {
     "name": "stdout",
     "output_type": "stream",
     "text": [
      "      work_year experience_level employment_type                 job_title  \\\n",
      "1          2023               MI              CT               ML Engineer   \n",
      "2          2023               MI              CT               ML Engineer   \n",
      "5          2023               SE              FT         Applied Scientist   \n",
      "6          2023               SE              FT         Applied Scientist   \n",
      "9          2023               SE              FT            Data Scientist   \n",
      "...         ...              ...             ...                       ...   \n",
      "3749       2021               SE              FT           Data Specialist   \n",
      "3750       2020               SE              FT            Data Scientist   \n",
      "3751       2021               MI              FT  Principal Data Scientist   \n",
      "3752       2020               EN              FT            Data Scientist   \n",
      "3753       2020               EN              CT     Business Data Analyst   \n",
      "\n",
      "      salary salary_currency  salary_in_usd employee_residence  remote_ratio  \\\n",
      "1      30000             USD          30000                 US           100   \n",
      "2      25500             USD          25500                 US           100   \n",
      "5     222200             USD         222200                 US             0   \n",
      "6     136000             USD         136000                 US             0   \n",
      "9     147100             USD         147100                 US             0   \n",
      "...      ...             ...            ...                ...           ...   \n",
      "3749  165000             USD         165000                 US           100   \n",
      "3750  412000             USD         412000                 US           100   \n",
      "3751  151000             USD         151000                 US           100   \n",
      "3752  105000             USD         105000                 US           100   \n",
      "3753  100000             USD         100000                 US           100   \n",
      "\n",
      "     company_location company_size  \n",
      "1                  US            S  \n",
      "2                  US            S  \n",
      "5                  US            L  \n",
      "6                  US            L  \n",
      "9                  US            M  \n",
      "...               ...          ...  \n",
      "3749               US            L  \n",
      "3750               US            L  \n",
      "3751               US            L  \n",
      "3752               US            S  \n",
      "3753               US            L  \n",
      "\n",
      "[3040 rows x 11 columns]\n"
     ]
    }
   ],
   "source": [
    "# Filtrer les salaires pour un pays donné (ex : US)\n",
    "df_US = df[df.company_location == 'US']\n",
    "print(df_US)"
   ]
  },
  {
   "cell_type": "code",
   "execution_count": 87,
   "id": "7d150030-aeb1-4ed7-bf0a-f8fad062c0c3",
   "metadata": {},
   "outputs": [
    {
     "data": {
      "text/plain": [
       "company_location\n",
       "IL    271446.50\n",
       "PR    167500.00\n",
       "US    151822.01\n",
       "RU    140333.33\n",
       "CA    131917.69\n",
       "Name: salary_in_usd, dtype: float64"
      ]
     },
     "execution_count": 87,
     "metadata": {},
     "output_type": "execute_result"
    }
   ],
   "source": [
    "# Top 5 des entreprises qui paient le plus\n",
    "df.groupby('company_location')['salary_in_usd'].mean().round(2).sort_values(ascending=False).head(5)"
   ]
  },
  {
   "cell_type": "code",
   "execution_count": 102,
   "id": "a0ec1789-6f29-4a9a-9306-e027972db484",
   "metadata": {},
   "outputs": [
    {
     "data": {
      "text/plain": [
       "company_location\n",
       "EG    100.0\n",
       "CF    100.0\n",
       "MY    100.0\n",
       "AR    100.0\n",
       "NG    100.0\n",
       "      ...  \n",
       "HK      0.0\n",
       "HN      0.0\n",
       "LT      0.0\n",
       "LV      0.0\n",
       "VN      0.0\n",
       "Name: remote_ratio, Length: 72, dtype: float64"
      ]
     },
     "execution_count": 102,
     "metadata": {},
     "output_type": "execute_result"
    }
   ],
   "source": [
    "# Filtrer les données\n",
    "# Rôles avec un salaire moyen supérieur à 100,000\n",
    "\n",
    "# Je calcule mes moyennes puis je filtre\n",
    "df_salaire_moyen_par_role = df['salary_in_usd'].groupby(df['job_title']).mean().round(2)\n",
    "df_salaire_moyen_par_role[df_salaire_moyen_par_role > 100000]\n",
    "\n",
    "# Pays avec la plus forte proportion de télétravail (remote_ratio = 100)\n",
    "df.groupby('company_location')['remote_ratio'].mean().round(2).sort_values(ascending=False)"
   ]
  },
  {
   "cell_type": "code",
   "execution_count": 104,
   "id": "50cb4cdc-d788-48e1-9c88-7200b0e5f1af",
   "metadata": {},
   "outputs": [
    {
     "name": "stdout",
     "output_type": "stream",
     "text": [
      "Le Salaire moyen des employés à distance :  136481.45 $\n",
      "Le Salaire moyen des Data Analyst :  108716.23 $\n",
      "Le Salaire moyen des Data Engineer :  142785.73 $\n"
     ]
    }
   ],
   "source": [
    "# Requêtes conditionnelles\n",
    "# Salaire moyen des employés à distance (100%)\n",
    "\n",
    "# On définit un nouveau dataset pour filtrer puis on fait notre moyenne\n",
    "df_remote_100 = df[df['remote_ratio'] == 100]\n",
    "print(\"Le Salaire moyen des employés à distance : \",df_remote_100['salary_in_usd'].mean().round(2),\"$\")\n",
    "\n",
    "# Comparer salaires moyens pour deux catégories\n",
    "# On définit un nouveau dataset pour filtrer puis on fait notre moyenne\n",
    "df_Data_Analyst = df[df['job_title'] == \"Data Analyst\"]\n",
    "print(\"Le Salaire moyen des Data Analyst : \",df_Data_Analyst['salary_in_usd'].mean().round(2),\"$\")\n",
    "\n",
    "df_Data_Engineer = df[df['job_title'] == \"Data Engineer\"]\n",
    "print(\"Le Salaire moyen des Data Engineer : \",df_Data_Engineer['salary_in_usd'].mean().round(2),\"$\")\n"
   ]
  },
  {
   "cell_type": "code",
   "execution_count": 107,
   "id": "b1f36164-6eae-4c79-bdbd-e3f5354c7f5b",
   "metadata": {},
   "outputs": [
    {
     "name": "stdout",
     "output_type": "stream",
     "text": [
      "                     job_title  salary_in_usd fourchette_salaire\n",
      "0     Principal Data Scientist          85847           50k-100k\n",
      "1                  ML Engineer          30000               <50k\n",
      "2                  ML Engineer          25500               <50k\n",
      "3               Data Scientist         175000              150k+\n",
      "4               Data Scientist         120000          100k-150k\n",
      "...                        ...            ...                ...\n",
      "3750            Data Scientist         412000              150k+\n",
      "3751  Principal Data Scientist         151000              150k+\n",
      "3752            Data Scientist         105000          100k-150k\n",
      "3753     Business Data Analyst         100000          100k-150k\n",
      "3754      Data Science Manager          94665           50k-100k\n",
      "\n",
      "[3755 rows x 3 columns]\n"
     ]
    }
   ],
   "source": [
    "# Ajouter une colonne pour les fourchettes de salaires\n",
    "\n",
    "# Fonction pour définir les différentes fourchettes de salaire\n",
    "def categorie_salaire(salary):\n",
    "    if salary < 50000:\n",
    "        return \"<50k\"\n",
    "    elif 50000 <= salary < 100000:\n",
    "        return \"50k-100k\"\n",
    "    elif 100000 <= salary < 150000:\n",
    "        return \"100k-150k\"\n",
    "    else:\n",
    "        return \"150k+\"\n",
    "\n",
    "# On applique la fonction sur la colonne salary_in_usd\n",
    "df['fourchette_salaire'] = df['salary_in_usd'].apply(categorie_salaire)\n",
    "\n",
    "# On affiche le nouveau dataframe\n",
    "print(df[['job_title', 'salary_in_usd', 'fourchette_salaire']])\n"
   ]
  },
  {
   "cell_type": "code",
   "execution_count": 110,
   "id": "08ebd32f",
   "metadata": {},
   "outputs": [
    {
     "name": "stdout",
     "output_type": "stream",
     "text": [
      "-0.06417098519057557\n"
     ]
    }
   ],
   "source": [
    "# Analyse des corrélations\n",
    "# Relation entre télétravail et salaire\n",
    "print(df['remote_ratio'].corr(df['salary_in_usd']))\n",
    "# Il y a donc très peu de lien entre le télétravail et le salaire !"
   ]
  },
  {
   "cell_type": "code",
   "execution_count": 108,
   "id": "a024d154",
   "metadata": {},
   "outputs": [
    {
     "name": "stdout",
     "output_type": "stream",
     "text": [
      "company_size\n",
      "L    118300.98\n",
      "M    143130.55\n",
      "S     78226.68\n",
      "Name: salary_in_usd, dtype: float64\n"
     ]
    }
   ],
   "source": [
    "# Salaire moyen par taille d'entreprise\n",
    "print(df['salary_in_usd'].groupby(df['company_size']).mean().round(2))\n",
    "# Comme quoi, les plus grandes entreprises ne sont pas celles qui payent forcément le mieux !"
   ]
  },
  {
   "cell_type": "code",
   "execution_count": 112,
   "id": "b167d883",
   "metadata": {},
   "outputs": [
    {
     "name": "stdout",
     "output_type": "stream",
     "text": [
      "Tableau croisé des salaires :\n",
      " remote_ratio                0              50             100\n",
      "experience_level                                             \n",
      "EN                104581.765766   64006.230769   65040.486111\n",
      "EX                182435.785714  139030.166667  214837.326923\n",
      "MI                116723.103535   74214.405405   96803.480597\n",
      "SE                154024.064706   98438.136364  154022.023381\n"
     ]
    }
   ],
   "source": [
    "# Tableau croisé des salaires avec en lignes le niveau d'expérience, en colonne la proportion de télétravail et en valeur la moyenne des salaires\n",
    "# De plus, on remarque une corrélation entre le niveau d'expérience et le niveau de rémunération\n",
    "\n",
    "pivot_table = df.pivot_table(\n",
    "    index='experience_level',\n",
    "    columns='remote_ratio',\n",
    "    values='salary_in_usd',\n",
    "    aggfunc='mean'\n",
    ")\n",
    "\n",
    "print(\"Tableau croisé des salaires :\\n\", pivot_table)"
   ]
  }
 ],
 "metadata": {
  "kernelspec": {
   "display_name": "Python 3 (ipykernel)",
   "language": "python",
   "name": "python3"
  },
  "language_info": {
   "codemirror_mode": {
    "name": "ipython",
    "version": 3
   },
   "file_extension": ".py",
   "mimetype": "text/x-python",
   "name": "python",
   "nbconvert_exporter": "python",
   "pygments_lexer": "ipython3",
   "version": "3.11.7"
  }
 },
 "nbformat": 4,
 "nbformat_minor": 5
}
